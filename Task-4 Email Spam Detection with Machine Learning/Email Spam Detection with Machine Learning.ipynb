{
 "cells": [
  {
   "cell_type": "markdown",
   "id": "bed7ecf6",
   "metadata": {},
   "source": [
    "## Name : Prachi Ranjan\n",
    "## Contact No: +91 8106694870\n",
    "## Mail ID : pra.rjn@gmail.com\n",
    "## Oasis Infobyte Data Science Internship\n",
    "## Github Link: https://github.com/PrachiRanjan3/OIBSIP\n",
    "## Task 4 : Email Spam Detection with Machine Learning"
   ]
  },
  {
   "attachments": {
    "Demo1.png": {
     "image/png": "[encoded data removed]"
    }
   },
   "cell_type": "markdown",
   "id": "743b0948",
   "metadata": {},
   "source": [
    "![Demo1.png](attachment:Demo1.png)\n",
    "### We’ve all been the recipient of spam emails before. Spam mail, or junk mail, is a type of email that is sent to a massive number of users at one time, frequently containing cryptic messages, scams, or most dangerously, phishing content. Then, use machine learning to train the spam detector to recognize and classify emails into spam and non-spam."
   ]
  },
  {
   "cell_type": "markdown",
   "id": "7ba0629d",
   "metadata": {},
   "source": [
    "## Importing the necessary libraries "
   ]
  },
  {
   "cell_type": "code",
   "execution_count": 1,
   "id": "d11c248b",
   "metadata": {},
   "outputs": [
    {
     "name": "stderr",
     "output_type": "stream",
     "text": [
      "C:\\Users\\prach\\anaconda3\\lib\\site-packages\\scipy\\__init__.py:138: UserWarning: A NumPy version >=1.16.5 and <1.23.0 is required for this version of SciPy (detected version 1.24.4)\n",
      "  warnings.warn(f\"A NumPy version >={np_minversion} and <{np_maxversion} is required for this version of \"\n"
     ]
    }
   ],
   "source": [
    "import pandas as pd\n",
    "import matplotlib.pyplot as plt\n",
    "%matplotlib inline\n",
    "import seaborn as sns\n",
    "from sklearn.model_selection import train_test_split\n",
    "from sklearn.feature_extraction.text import CountVectorizer\n",
    "from sklearn.naive_bayes import MultinomialNB\n",
    "from sklearn.svm import SVC \n",
    "from sklearn.linear_model import LogisticRegression\n",
    "from sklearn.ensemble import RandomForestClassifier\n",
    "from sklearn.tree import DecisionTreeClassifier\n",
    "from sklearn.metrics import accuracy_score, confusion_matrix\n",
    "import joblib\n",
    "import re\n",
    "from warnings import filterwarnings\n",
    "filterwarnings('ignore')"
   ]
  },
  {
   "cell_type": "code",
   "execution_count": 2,
   "id": "49dca77f",
   "metadata": {
    "scrolled": true
   },
   "outputs": [
    {
     "data": {
      "text/html": [
       "<div>\n",
       "<style scoped>\n",
       "    .dataframe tbody tr th:only-of-type {\n",
       "        vertical-align: middle;\n",
       "    }\n",
       "\n",
       "    .dataframe tbody tr th {\n",
       "        vertical-align: top;\n",
       "    }\n",
       "\n",
       "    .dataframe thead th {\n",
       "        text-align: right;\n",
       "    }\n",
       "</style>\n",
       "<table border=\"1\" class=\"dataframe\">\n",
       "  <thead>\n",
       "    <tr style=\"text-align: right;\">\n",
       "      <th></th>\n",
       "      <th>v1</th>\n",
       "      <th>v2</th>\n",
       "      <th>Unnamed: 2</th>\n",
       "      <th>Unnamed: 3</th>\n",
       "      <th>Unnamed: 4</th>\n",
       "    </tr>\n",
       "  </thead>\n",
       "  <tbody>\n",
       "    <tr>\n",
       "      <th>0</th>\n",
       "      <td>ham</td>\n",
       "      <td>Go until jurong point, crazy.. Available only ...</td>\n",
       "      <td>NaN</td>\n",
       "      <td>NaN</td>\n",
       "      <td>NaN</td>\n",
       "    </tr>\n",
       "    <tr>\n",
       "      <th>1</th>\n",
       "      <td>ham</td>\n",
       "      <td>Ok lar... Joking wif u oni...</td>\n",
       "      <td>NaN</td>\n",
       "      <td>NaN</td>\n",
       "      <td>NaN</td>\n",
       "    </tr>\n",
       "    <tr>\n",
       "      <th>2</th>\n",
       "      <td>spam</td>\n",
       "      <td>Free entry in 2 a wkly comp to win FA Cup fina...</td>\n",
       "      <td>NaN</td>\n",
       "      <td>NaN</td>\n",
       "      <td>NaN</td>\n",
       "    </tr>\n",
       "    <tr>\n",
       "      <th>3</th>\n",
       "      <td>ham</td>\n",
       "      <td>U dun say so early hor... U c already then say...</td>\n",
       "      <td>NaN</td>\n",
       "      <td>NaN</td>\n",
       "      <td>NaN</td>\n",
       "    </tr>\n",
       "    <tr>\n",
       "      <th>4</th>\n",
       "      <td>ham</td>\n",
       "      <td>Nah I don't think he goes to usf, he lives aro...</td>\n",
       "      <td>NaN</td>\n",
       "      <td>NaN</td>\n",
       "      <td>NaN</td>\n",
       "    </tr>\n",
       "  </tbody>\n",
       "</table>\n",
       "</div>"
      ],
      "text/plain": [
       "     v1                                                 v2 Unnamed: 2  \\\n",
       "0   ham  Go until jurong point, crazy.. Available only ...        NaN   \n",
       "1   ham                      Ok lar... Joking wif u oni...        NaN   \n",
       "2  spam  Free entry in 2 a wkly comp to win FA Cup fina...        NaN   \n",
       "3   ham  U dun say so early hor... U c already then say...        NaN   \n",
       "4   ham  Nah I don't think he goes to usf, he lives aro...        NaN   \n",
       "\n",
       "  Unnamed: 3 Unnamed: 4  \n",
       "0        NaN        NaN  \n",
       "1        NaN        NaN  \n",
       "2        NaN        NaN  \n",
       "3        NaN        NaN  \n",
       "4        NaN        NaN  "
      ]
     },
     "execution_count": 2,
     "metadata": {},
     "output_type": "execute_result"
    }
   ],
   "source": [
    "Email_data= pd.read_csv('spam.csv', encoding='ISO-8859-1')\n",
    "Email_data.head()"
   ]
  },
  {
   "cell_type": "code",
   "execution_count": 3,
   "id": "bfde9bec",
   "metadata": {},
   "outputs": [
    {
     "name": "stdout",
     "output_type": "stream",
     "text": [
      "<class 'pandas.core.frame.DataFrame'>\n",
      "RangeIndex: 5572 entries, 0 to 5571\n",
      "Data columns (total 5 columns):\n",
      " #   Column      Non-Null Count  Dtype \n",
      "---  ------      --------------  ----- \n",
      " 0   v1          5572 non-null   object\n",
      " 1   v2          5572 non-null   object\n",
      " 2   Unnamed: 2  50 non-null     object\n",
      " 3   Unnamed: 3  12 non-null     object\n",
      " 4   Unnamed: 4  6 non-null      object\n",
      "dtypes: object(5)\n",
      "memory usage: 217.8+ KB\n"
     ]
    }
   ],
   "source": [
    "Email_data.info()"
   ]
  },
  {
   "cell_type": "code",
   "execution_count": 4,
   "id": "1cf318ba",
   "metadata": {},
   "outputs": [
    {
     "data": {
      "text/plain": [
       "v1               0\n",
       "v2               0\n",
       "Unnamed: 2    5522\n",
       "Unnamed: 3    5560\n",
       "Unnamed: 4    5566\n",
       "dtype: int64"
      ]
     },
     "execution_count": 4,
     "metadata": {},
     "output_type": "execute_result"
    }
   ],
   "source": [
    "Email_data.isna().sum()"
   ]
  },
  {
   "cell_type": "code",
   "execution_count": 5,
   "id": "7828b5ed",
   "metadata": {},
   "outputs": [],
   "source": [
    "Email_data.drop(['Unnamed: 2', 'Unnamed: 3', 'Unnamed: 4'], axis =1,inplace =True)"
   ]
  },
  {
   "cell_type": "code",
   "execution_count": 6,
   "id": "7910d36c",
   "metadata": {},
   "outputs": [],
   "source": [
    "Email_data=Email_data.rename(columns={'v1': 'class', 'v2': 'text'})"
   ]
  },
  {
   "cell_type": "code",
   "execution_count": 7,
   "id": "403d5fd4",
   "metadata": {},
   "outputs": [
    {
     "data": {
      "text/html": [
       "<div>\n",
       "<style scoped>\n",
       "    .dataframe tbody tr th:only-of-type {\n",
       "        vertical-align: middle;\n",
       "    }\n",
       "\n",
       "    .dataframe tbody tr th {\n",
       "        vertical-align: top;\n",
       "    }\n",
       "\n",
       "    .dataframe thead th {\n",
       "        text-align: right;\n",
       "    }\n",
       "</style>\n",
       "<table border=\"1\" class=\"dataframe\">\n",
       "  <thead>\n",
       "    <tr style=\"text-align: right;\">\n",
       "      <th></th>\n",
       "      <th>class</th>\n",
       "      <th>text</th>\n",
       "    </tr>\n",
       "  </thead>\n",
       "  <tbody>\n",
       "    <tr>\n",
       "      <th>0</th>\n",
       "      <td>ham</td>\n",
       "      <td>Go until jurong point, crazy.. Available only ...</td>\n",
       "    </tr>\n",
       "    <tr>\n",
       "      <th>1</th>\n",
       "      <td>ham</td>\n",
       "      <td>Ok lar... Joking wif u oni...</td>\n",
       "    </tr>\n",
       "    <tr>\n",
       "      <th>2</th>\n",
       "      <td>spam</td>\n",
       "      <td>Free entry in 2 a wkly comp to win FA Cup fina...</td>\n",
       "    </tr>\n",
       "    <tr>\n",
       "      <th>3</th>\n",
       "      <td>ham</td>\n",
       "      <td>U dun say so early hor... U c already then say...</td>\n",
       "    </tr>\n",
       "    <tr>\n",
       "      <th>4</th>\n",
       "      <td>ham</td>\n",
       "      <td>Nah I don't think he goes to usf, he lives aro...</td>\n",
       "    </tr>\n",
       "  </tbody>\n",
       "</table>\n",
       "</div>"
      ],
      "text/plain": [
       "  class                                               text\n",
       "0   ham  Go until jurong point, crazy.. Available only ...\n",
       "1   ham                      Ok lar... Joking wif u oni...\n",
       "2  spam  Free entry in 2 a wkly comp to win FA Cup fina...\n",
       "3   ham  U dun say so early hor... U c already then say...\n",
       "4   ham  Nah I don't think he goes to usf, he lives aro..."
      ]
     },
     "execution_count": 7,
     "metadata": {},
     "output_type": "execute_result"
    }
   ],
   "source": [
    "Email_data.head()"
   ]
  },
  {
   "cell_type": "code",
   "execution_count": 8,
   "id": "b50b78c7",
   "metadata": {},
   "outputs": [
    {
     "data": {
      "text/plain": [
       "(5572, 2)"
      ]
     },
     "execution_count": 8,
     "metadata": {},
     "output_type": "execute_result"
    }
   ],
   "source": [
    "Email_data.shape"
   ]
  },
  {
   "cell_type": "code",
   "execution_count": 9,
   "id": "b8729929",
   "metadata": {},
   "outputs": [
    {
     "data": {
      "text/html": [
       "<div>\n",
       "<style scoped>\n",
       "    .dataframe tbody tr th:only-of-type {\n",
       "        vertical-align: middle;\n",
       "    }\n",
       "\n",
       "    .dataframe tbody tr th {\n",
       "        vertical-align: top;\n",
       "    }\n",
       "\n",
       "    .dataframe thead th {\n",
       "        text-align: right;\n",
       "    }\n",
       "</style>\n",
       "<table border=\"1\" class=\"dataframe\">\n",
       "  <thead>\n",
       "    <tr style=\"text-align: right;\">\n",
       "      <th></th>\n",
       "      <th>class</th>\n",
       "      <th>text</th>\n",
       "    </tr>\n",
       "  </thead>\n",
       "  <tbody>\n",
       "    <tr>\n",
       "      <th>2</th>\n",
       "      <td>spam</td>\n",
       "      <td>Free entry in 2 a wkly comp to win FA Cup fina...</td>\n",
       "    </tr>\n",
       "    <tr>\n",
       "      <th>7</th>\n",
       "      <td>ham</td>\n",
       "      <td>As per your request 'Melle Melle (Oru Minnamin...</td>\n",
       "    </tr>\n",
       "    <tr>\n",
       "      <th>8</th>\n",
       "      <td>spam</td>\n",
       "      <td>WINNER!! As a valued network customer you have...</td>\n",
       "    </tr>\n",
       "    <tr>\n",
       "      <th>9</th>\n",
       "      <td>spam</td>\n",
       "      <td>Had your mobile 11 months or more? U R entitle...</td>\n",
       "    </tr>\n",
       "    <tr>\n",
       "      <th>11</th>\n",
       "      <td>spam</td>\n",
       "      <td>SIX chances to win CASH! From 100 to 20,000 po...</td>\n",
       "    </tr>\n",
       "    <tr>\n",
       "      <th>...</th>\n",
       "      <td>...</td>\n",
       "      <td>...</td>\n",
       "    </tr>\n",
       "    <tr>\n",
       "      <th>5524</th>\n",
       "      <td>spam</td>\n",
       "      <td>You are awarded a SiPix Digital Camera! call 0...</td>\n",
       "    </tr>\n",
       "    <tr>\n",
       "      <th>5535</th>\n",
       "      <td>ham</td>\n",
       "      <td>I know you are thinkin malaria. But relax, chi...</td>\n",
       "    </tr>\n",
       "    <tr>\n",
       "      <th>5539</th>\n",
       "      <td>ham</td>\n",
       "      <td>Just sleeping..and surfing</td>\n",
       "    </tr>\n",
       "    <tr>\n",
       "      <th>5553</th>\n",
       "      <td>ham</td>\n",
       "      <td>Hahaha..use your brain dear</td>\n",
       "    </tr>\n",
       "    <tr>\n",
       "      <th>5558</th>\n",
       "      <td>ham</td>\n",
       "      <td>Sorry, I'll call later</td>\n",
       "    </tr>\n",
       "  </tbody>\n",
       "</table>\n",
       "<p>684 rows × 2 columns</p>\n",
       "</div>"
      ],
      "text/plain": [
       "     class                                               text\n",
       "2     spam  Free entry in 2 a wkly comp to win FA Cup fina...\n",
       "7      ham  As per your request 'Melle Melle (Oru Minnamin...\n",
       "8     spam  WINNER!! As a valued network customer you have...\n",
       "9     spam  Had your mobile 11 months or more? U R entitle...\n",
       "11    spam  SIX chances to win CASH! From 100 to 20,000 po...\n",
       "...    ...                                                ...\n",
       "5524  spam  You are awarded a SiPix Digital Camera! call 0...\n",
       "5535   ham  I know you are thinkin malaria. But relax, chi...\n",
       "5539   ham                         Just sleeping..and surfing\n",
       "5553   ham                        Hahaha..use your brain dear\n",
       "5558   ham                             Sorry, I'll call later\n",
       "\n",
       "[684 rows x 2 columns]"
      ]
     },
     "execution_count": 9,
     "metadata": {},
     "output_type": "execute_result"
    }
   ],
   "source": [
    "Email_data[Email_data.duplicated(keep=False)]"
   ]
  },
  {
   "cell_type": "code",
   "execution_count": 10,
   "id": "13dcc6e8",
   "metadata": {},
   "outputs": [],
   "source": [
    "Email_data.drop_duplicates(inplace =True)"
   ]
  },
  {
   "cell_type": "code",
   "execution_count": 11,
   "id": "10271efb",
   "metadata": {},
   "outputs": [
    {
     "data": {
      "text/plain": [
       "(5169, 2)"
      ]
     },
     "execution_count": 11,
     "metadata": {},
     "output_type": "execute_result"
    }
   ],
   "source": [
    "Email_data.shape"
   ]
  },
  {
   "cell_type": "code",
   "execution_count": 12,
   "id": "b931ef66",
   "metadata": {},
   "outputs": [
    {
     "data": {
      "text/plain": [
       "array(['ham', 'spam'], dtype=object)"
      ]
     },
     "execution_count": 12,
     "metadata": {},
     "output_type": "execute_result"
    }
   ],
   "source": [
    "Email_data['class'].unique()"
   ]
  },
  {
   "cell_type": "code",
   "execution_count": 13,
   "id": "66160937",
   "metadata": {},
   "outputs": [
    {
     "data": {
      "text/html": [
       "<div>\n",
       "<style scoped>\n",
       "    .dataframe tbody tr th:only-of-type {\n",
       "        vertical-align: middle;\n",
       "    }\n",
       "\n",
       "    .dataframe tbody tr th {\n",
       "        vertical-align: top;\n",
       "    }\n",
       "\n",
       "    .dataframe thead th {\n",
       "        text-align: right;\n",
       "    }\n",
       "</style>\n",
       "<table border=\"1\" class=\"dataframe\">\n",
       "  <thead>\n",
       "    <tr style=\"text-align: right;\">\n",
       "      <th></th>\n",
       "      <th>class</th>\n",
       "      <th>count</th>\n",
       "    </tr>\n",
       "  </thead>\n",
       "  <tbody>\n",
       "    <tr>\n",
       "      <th>0</th>\n",
       "      <td>ham</td>\n",
       "      <td>4516</td>\n",
       "    </tr>\n",
       "    <tr>\n",
       "      <th>1</th>\n",
       "      <td>spam</td>\n",
       "      <td>653</td>\n",
       "    </tr>\n",
       "  </tbody>\n",
       "</table>\n",
       "</div>"
      ],
      "text/plain": [
       "  class  count\n",
       "0   ham   4516\n",
       "1  spam    653"
      ]
     },
     "execution_count": 13,
     "metadata": {},
     "output_type": "execute_result"
    }
   ],
   "source": [
    "No_of_class =Email_data.groupby('class').agg({'class': 'count'}).rename(columns={'class':'count'}).reset_index()\n",
    "No_of_class"
   ]
  },
  {
   "cell_type": "code",
   "execution_count": 14,
   "id": "0b497335",
   "metadata": {},
   "outputs": [
    {
     "data": {
      "image/png": "[encoded data removed]",
      "text/plain": [
       "<Figure size 576x576 with 1 Axes>"
      ]
     },
     "metadata": {},
     "output_type": "display_data"
    }
   ],
   "source": [
    "plt.figure(figsize=(8,8))\n",
    "plt.pie(No_of_class['count'], autopct=lambda x: '{:.0f}'.format(x*No_of_class['count'].sum()/100), labels= No_of_class['class'], \n",
    "        textprops={'fontsize': 14, 'weight':'bold'}, colors=['m','b'])\n",
    "plt.title('class vs count', fontsize=16, fontdict={'weight':'bold'})\n",
    "plt.show()"
   ]
  },
  {
   "cell_type": "markdown",
   "id": "2e28dfaf",
   "metadata": {},
   "source": [
    "### Encoding the 'class' Column"
   ]
  },
  {
   "cell_type": "code",
   "execution_count": 15,
   "id": "24bdef59",
   "metadata": {},
   "outputs": [],
   "source": [
    "Email_data['class'] = Email_data['class'].map({'ham': 0, 'spam': 1})"
   ]
  },
  {
   "cell_type": "code",
   "execution_count": 16,
   "id": "1eb89fe8",
   "metadata": {},
   "outputs": [
    {
     "data": {
      "text/html": [
       "<div>\n",
       "<style scoped>\n",
       "    .dataframe tbody tr th:only-of-type {\n",
       "        vertical-align: middle;\n",
       "    }\n",
       "\n",
       "    .dataframe tbody tr th {\n",
       "        vertical-align: top;\n",
       "    }\n",
       "\n",
       "    .dataframe thead th {\n",
       "        text-align: right;\n",
       "    }\n",
       "</style>\n",
       "<table border=\"1\" class=\"dataframe\">\n",
       "  <thead>\n",
       "    <tr style=\"text-align: right;\">\n",
       "      <th></th>\n",
       "      <th>class</th>\n",
       "      <th>text</th>\n",
       "    </tr>\n",
       "  </thead>\n",
       "  <tbody>\n",
       "    <tr>\n",
       "      <th>0</th>\n",
       "      <td>0</td>\n",
       "      <td>Go until jurong point, crazy.. Available only ...</td>\n",
       "    </tr>\n",
       "    <tr>\n",
       "      <th>1</th>\n",
       "      <td>0</td>\n",
       "      <td>Ok lar... Joking wif u oni...</td>\n",
       "    </tr>\n",
       "    <tr>\n",
       "      <th>2</th>\n",
       "      <td>1</td>\n",
       "      <td>Free entry in 2 a wkly comp to win FA Cup fina...</td>\n",
       "    </tr>\n",
       "    <tr>\n",
       "      <th>3</th>\n",
       "      <td>0</td>\n",
       "      <td>U dun say so early hor... U c already then say...</td>\n",
       "    </tr>\n",
       "    <tr>\n",
       "      <th>4</th>\n",
       "      <td>0</td>\n",
       "      <td>Nah I don't think he goes to usf, he lives aro...</td>\n",
       "    </tr>\n",
       "  </tbody>\n",
       "</table>\n",
       "</div>"
      ],
      "text/plain": [
       "   class                                               text\n",
       "0      0  Go until jurong point, crazy.. Available only ...\n",
       "1      0                      Ok lar... Joking wif u oni...\n",
       "2      1  Free entry in 2 a wkly comp to win FA Cup fina...\n",
       "3      0  U dun say so early hor... U c already then say...\n",
       "4      0  Nah I don't think he goes to usf, he lives aro..."
      ]
     },
     "execution_count": 16,
     "metadata": {},
     "output_type": "execute_result"
    }
   ],
   "source": [
    "Email_data.head()"
   ]
  },
  {
   "cell_type": "markdown",
   "id": "12fdd31f",
   "metadata": {},
   "source": [
    "## Countervectorizing x and y"
   ]
  },
  {
   "cell_type": "code",
   "execution_count": 17,
   "id": "4c1365bc",
   "metadata": {},
   "outputs": [],
   "source": [
    "cv= CountVectorizer()"
   ]
  },
  {
   "cell_type": "code",
   "execution_count": 18,
   "id": "1deb1035",
   "metadata": {},
   "outputs": [],
   "source": [
    "x= cv.fit_transform(Email_data['text'])\n",
    "y= Email_data['class']"
   ]
  },
  {
   "cell_type": "markdown",
   "id": "473ce2a5",
   "metadata": {},
   "source": [
    "## Preparing the data for training and testing of model"
   ]
  },
  {
   "cell_type": "code",
   "execution_count": 19,
   "id": "6744844a",
   "metadata": {},
   "outputs": [],
   "source": [
    "x_train, x_test,y_train, y_test= train_test_split(x,y, test_size= 0.2,random_state=0)"
   ]
  },
  {
   "cell_type": "markdown",
   "id": "77586480",
   "metadata": {},
   "source": [
    "## Training the data using Multinomial Naive Bayes"
   ]
  },
  {
   "cell_type": "code",
   "execution_count": 20,
   "id": "113cf7a3",
   "metadata": {},
   "outputs": [],
   "source": [
    "model_1 = MultinomialNB().fit(x_train, y_train)"
   ]
  },
  {
   "cell_type": "markdown",
   "id": "6c46bae5",
   "metadata": {},
   "source": [
    "## Evaluating the performance using Multinomial Naive Bayes "
   ]
  },
  {
   "cell_type": "code",
   "execution_count": 21,
   "id": "8707ba38",
   "metadata": {},
   "outputs": [],
   "source": [
    "y_pred_1= model_1.predict(x_test)"
   ]
  },
  {
   "cell_type": "code",
   "execution_count": 22,
   "id": "6be35b44",
   "metadata": {},
   "outputs": [
    {
     "name": "stdout",
     "output_type": "stream",
     "text": [
      "confusion Matrix: \n",
      "[[872  13]\n",
      " [ 10 139]]\n"
     ]
    }
   ],
   "source": [
    "confusion_Matrix_1 = confusion_matrix(y_test, y_pred_1)\n",
    "print('confusion Matrix: ')\n",
    "print(confusion_Matrix_1)"
   ]
  },
  {
   "cell_type": "code",
   "execution_count": 23,
   "id": "2e36c995",
   "metadata": {},
   "outputs": [
    {
     "name": "stdout",
     "output_type": "stream",
     "text": [
      "Accuracy:  0.9777562862669246\n"
     ]
    }
   ],
   "source": [
    "Accuracy_1 = accuracy_score(y_test, y_pred_1)\n",
    "print('Accuracy: ', Accuracy_1)"
   ]
  },
  {
   "cell_type": "code",
   "execution_count": 24,
   "id": "1b944527",
   "metadata": {},
   "outputs": [
    {
     "data": {
      "image/png": "[encoded data removed]",
      "text/plain": [
       "<Figure size 576x432 with 2 Axes>"
      ]
     },
     "metadata": {
      "needs_background": "light"
     },
     "output_type": "display_data"
    }
   ],
   "source": [
    "plt.figure(figsize=(8, 6))\n",
    "plt.imshow(confusion_Matrix_1, interpolation='nearest', cmap=plt.get_cmap('Blues'))\n",
    "plt.title('Confusion Matrix of performance by Multinomial Naive Bayes classifier')\n",
    "plt.colorbar()\n",
    "tick_marks = [0, 1]  # Assuming binary classification (e.g., 0 for non-spam and 1 for spam)\n",
    "plt.xticks(tick_marks, ['Predicted Ham(Non-spam)', 'Predicted Spam'], rotation=90)\n",
    "plt.yticks(tick_marks, ['Actual Ham(Non-spam)', 'Actual Spam'])\n",
    "plt.tight_layout()\n",
    "for i in range(2):\n",
    "    for j in range(2):\n",
    "        plt.text(j, i, format(confusion_Matrix_1[i, j], 'd'), ha=\"center\", va=\"center\", color=\"white\" \n",
    "                 if confusion_Matrix_1[i, j] > confusion_Matrix_1.max() / 2. else \"black\")\n",
    "plt.show()"
   ]
  },
  {
   "cell_type": "markdown",
   "id": "9c7cba15",
   "metadata": {},
   "source": [
    "## Training the data using Support Vector Machine"
   ]
  },
  {
   "cell_type": "code",
   "execution_count": 25,
   "id": "768a1c82",
   "metadata": {},
   "outputs": [],
   "source": [
    "model_2 = SVC().fit(x_train, y_train)"
   ]
  },
  {
   "cell_type": "markdown",
   "id": "a01900d1",
   "metadata": {},
   "source": [
    "## Evaluating the performance using Support Vector Machine"
   ]
  },
  {
   "cell_type": "code",
   "execution_count": 26,
   "id": "755b5c25",
   "metadata": {},
   "outputs": [],
   "source": [
    "y_pred_2= model_2.predict(x_test)"
   ]
  },
  {
   "cell_type": "code",
   "execution_count": 27,
   "id": "18a16c45",
   "metadata": {},
   "outputs": [
    {
     "name": "stdout",
     "output_type": "stream",
     "text": [
      "confusion Matrix: \n",
      "[[884   1]\n",
      " [ 23 126]]\n"
     ]
    }
   ],
   "source": [
    "confusion_Matrix_2 = confusion_matrix(y_test, y_pred_2)\n",
    "print('confusion Matrix: ')\n",
    "print(confusion_Matrix_2)"
   ]
  },
  {
   "cell_type": "code",
   "execution_count": 28,
   "id": "a9af8a78",
   "metadata": {},
   "outputs": [
    {
     "name": "stdout",
     "output_type": "stream",
     "text": [
      "Accuracy:  0.97678916827853\n"
     ]
    }
   ],
   "source": [
    "Accuracy_2 = accuracy_score(y_test, y_pred_2)\n",
    "print('Accuracy: ', Accuracy_2)"
   ]
  },
  {
   "cell_type": "code",
   "execution_count": 29,
   "id": "32122813",
   "metadata": {},
   "outputs": [
    {
     "data": {
      "image/png": "[encoded data removed]",
      "text/plain": [
       "<Figure size 576x432 with 2 Axes>"
      ]
     },
     "metadata": {
      "needs_background": "light"
     },
     "output_type": "display_data"
    }
   ],
   "source": [
    "plt.figure(figsize=(8, 6))\n",
    "plt.imshow(confusion_Matrix_2, interpolation='nearest', cmap=plt.get_cmap('Blues'))\n",
    "plt.title('Confusion Matrix of performance by Support Vector Machine')\n",
    "plt.colorbar()\n",
    "tick_marks = [0, 1]  # Assuming binary classification (e.g., 0 for non-spam and 1 for spam)\n",
    "plt.xticks(tick_marks, ['Predicted Ham(Non-spam)', 'Predicted Spam'], rotation=90)\n",
    "plt.yticks(tick_marks, ['Actual Ham(Non-spam)', 'Actual Spam'])\n",
    "plt.tight_layout()\n",
    "for i in range(2):\n",
    "    for j in range(2):\n",
    "        plt.text(j, i, format(confusion_Matrix_2[i, j], 'd'), ha=\"center\", va=\"center\", color=\"white\" \n",
    "                 if confusion_Matrix_2[i, j] > confusion_Matrix_2.max() / 2. else \"black\")\n",
    "plt.show()"
   ]
  },
  {
   "cell_type": "markdown",
   "id": "c03bff17",
   "metadata": {},
   "source": [
    "## Training the data using Logistic Regression"
   ]
  },
  {
   "cell_type": "code",
   "execution_count": 30,
   "id": "37553666",
   "metadata": {},
   "outputs": [],
   "source": [
    "model_3 = LogisticRegression().fit(x_train, y_train)"
   ]
  },
  {
   "cell_type": "markdown",
   "id": "1af46264",
   "metadata": {},
   "source": [
    "## Evaluating the performance using Logistic Regression"
   ]
  },
  {
   "cell_type": "code",
   "execution_count": 31,
   "id": "5cae3de4",
   "metadata": {},
   "outputs": [],
   "source": [
    "y_pred_3= model_3.predict(x_test)"
   ]
  },
  {
   "cell_type": "code",
   "execution_count": 32,
   "id": "e0198242",
   "metadata": {},
   "outputs": [
    {
     "name": "stdout",
     "output_type": "stream",
     "text": [
      "confusion Matrix: \n",
      "[[884   1]\n",
      " [ 19 130]]\n"
     ]
    }
   ],
   "source": [
    "confusion_Matrix_3 = confusion_matrix(y_test, y_pred_3)\n",
    "print('confusion Matrix: ')\n",
    "print(confusion_Matrix_3)"
   ]
  },
  {
   "cell_type": "code",
   "execution_count": 33,
   "id": "33b7b20e",
   "metadata": {},
   "outputs": [
    {
     "name": "stdout",
     "output_type": "stream",
     "text": [
      "Accuracy:  0.9806576402321083\n"
     ]
    }
   ],
   "source": [
    "Accuracy_3 = accuracy_score(y_test, y_pred_3)\n",
    "print('Accuracy: ', Accuracy_3)"
   ]
  },
  {
   "cell_type": "code",
   "execution_count": 34,
   "id": "be793de3",
   "metadata": {},
   "outputs": [
    {
     "data": {
      "image/png": "[encoded data removed]",
      "text/plain": [
       "<Figure size 576x432 with 2 Axes>"
      ]
     },
     "metadata": {
      "needs_background": "light"
     },
     "output_type": "display_data"
    }
   ],
   "source": [
    "plt.figure(figsize=(8, 6))\n",
    "plt.imshow(confusion_Matrix_3, interpolation='nearest', cmap=plt.get_cmap('Blues'))\n",
    "plt.title('Confusion Matrix of performance by Logistic Regression')\n",
    "plt.colorbar()\n",
    "tick_marks = [0, 1]  # Assuming binary classification (e.g., 0 for non-spam and 1 for spam)\n",
    "plt.xticks(tick_marks, ['Predicted Ham(Non-spam)', 'Predicted Spam'], rotation=90)\n",
    "plt.yticks(tick_marks, ['Actual Ham(Non-spam)', 'Actual Spam'])\n",
    "plt.tight_layout()\n",
    "for i in range(2):\n",
    "    for j in range(2):\n",
    "        plt.text(j, i, format(confusion_Matrix_3[i, j], 'd'), ha=\"center\", va=\"center\", color=\"white\" \n",
    "                 if confusion_Matrix_3[i, j] > confusion_Matrix_3.max() / 2. else \"black\")\n",
    "plt.show()"
   ]
  },
  {
   "cell_type": "markdown",
   "id": "e66a4b0a",
   "metadata": {},
   "source": [
    "## Training the data using Random Forest "
   ]
  },
  {
   "cell_type": "code",
   "execution_count": 35,
   "id": "2b0bbb75",
   "metadata": {},
   "outputs": [],
   "source": [
    "model_4 = RandomForestClassifier().fit(x_train, y_train)"
   ]
  },
  {
   "cell_type": "markdown",
   "id": "d4d38241",
   "metadata": {},
   "source": [
    "## Evaluating the performance using Random Forest "
   ]
  },
  {
   "cell_type": "code",
   "execution_count": 36,
   "id": "fbefeafe",
   "metadata": {},
   "outputs": [],
   "source": [
    "y_pred_4= model_4.predict(x_test)"
   ]
  },
  {
   "cell_type": "code",
   "execution_count": 37,
   "id": "9daaabb9",
   "metadata": {},
   "outputs": [
    {
     "name": "stdout",
     "output_type": "stream",
     "text": [
      "confusion Matrix: \n",
      "[[885   0]\n",
      " [ 29 120]]\n"
     ]
    }
   ],
   "source": [
    "confusion_Matrix_4 = confusion_matrix(y_test, y_pred_4)\n",
    "print('confusion Matrix: ')\n",
    "print(confusion_Matrix_4)"
   ]
  },
  {
   "cell_type": "code",
   "execution_count": 38,
   "id": "7a304a59",
   "metadata": {},
   "outputs": [
    {
     "name": "stdout",
     "output_type": "stream",
     "text": [
      "Accuracy:  0.971953578336557\n"
     ]
    }
   ],
   "source": [
    "Accuracy_4 = accuracy_score(y_test, y_pred_4)\n",
    "print('Accuracy: ', Accuracy_4)"
   ]
  },
  {
   "cell_type": "code",
   "execution_count": 39,
   "id": "4b66e19a",
   "metadata": {},
   "outputs": [
    {
     "data": {
      "image/png": "[encoded data removed]",
      "text/plain": [
       "<Figure size 576x432 with 2 Axes>"
      ]
     },
     "metadata": {
      "needs_background": "light"
     },
     "output_type": "display_data"
    }
   ],
   "source": [
    "plt.figure(figsize=(8, 6))\n",
    "plt.imshow(confusion_Matrix_4, interpolation='nearest', cmap=plt.get_cmap('Blues'))\n",
    "plt.title('Confusion Matrix of performance by Random Forest')\n",
    "plt.colorbar()\n",
    "tick_marks = [0, 1]  # Assuming binary classification (e.g., 0 for non-spam and 1 for spam)\n",
    "plt.xticks(tick_marks, ['Predicted Ham(Non-spam)', 'Predicted Spam'], rotation=90)\n",
    "plt.yticks(tick_marks, ['Actual Ham(Non-spam)', 'Actual Spam'])\n",
    "plt.tight_layout()\n",
    "for i in range(2):\n",
    "    for j in range(2):\n",
    "        plt.text(j, i, format(confusion_Matrix_4[i, j], 'd'), ha=\"center\", va=\"center\", color=\"white\" \n",
    "                 if confusion_Matrix_4[i, j] > confusion_Matrix_4.max() / 2. else \"black\")        \n",
    "plt.show()"
   ]
  },
  {
   "cell_type": "markdown",
   "id": "6257df00",
   "metadata": {},
   "source": [
    "## Training the data using Decision Tree"
   ]
  },
  {
   "cell_type": "code",
   "execution_count": 40,
   "id": "4e3e33dd",
   "metadata": {},
   "outputs": [],
   "source": [
    "model_5 = DecisionTreeClassifier().fit(x_train, y_train)"
   ]
  },
  {
   "cell_type": "markdown",
   "id": "cd09421c",
   "metadata": {},
   "source": [
    "## Evaluating the performance using Decision Tree"
   ]
  },
  {
   "cell_type": "code",
   "execution_count": 41,
   "id": "da69451d",
   "metadata": {},
   "outputs": [],
   "source": [
    "y_pred_5= model_5.predict(x_test)"
   ]
  },
  {
   "cell_type": "code",
   "execution_count": 42,
   "id": "e55f07bf",
   "metadata": {},
   "outputs": [
    {
     "name": "stdout",
     "output_type": "stream",
     "text": [
      "confusion Matrix: \n",
      "[[875  10]\n",
      " [ 21 128]]\n"
     ]
    }
   ],
   "source": [
    "confusion_Matrix_5 = confusion_matrix(y_test, y_pred_5)\n",
    "print('confusion Matrix: ')\n",
    "print(confusion_Matrix_5)"
   ]
  },
  {
   "cell_type": "code",
   "execution_count": 43,
   "id": "186f65e3",
   "metadata": {},
   "outputs": [
    {
     "name": "stdout",
     "output_type": "stream",
     "text": [
      "Accuracy:  0.9700193423597679\n"
     ]
    }
   ],
   "source": [
    "Accuracy_5 = accuracy_score(y_test, y_pred_5)\n",
    "print('Accuracy: ', Accuracy_5)"
   ]
  },
  {
   "cell_type": "code",
   "execution_count": 44,
   "id": "0078b02f",
   "metadata": {},
   "outputs": [
    {
     "data": {
      "image/png": "[encoded data removed]",
      "text/plain": [
       "<Figure size 576x432 with 2 Axes>"
      ]
     },
     "metadata": {
      "needs_background": "light"
     },
     "output_type": "display_data"
    }
   ],
   "source": [
    "plt.figure(figsize=(8, 6))\n",
    "plt.imshow(confusion_Matrix_5, interpolation='nearest', cmap=plt.get_cmap('Blues'))\n",
    "plt.title('Confusion Matrix of performance by Decision Tree')\n",
    "plt.colorbar()\n",
    "tick_marks = [0, 1]  # Assuming binary classification (e.g., 0 for non-spam and 1 for spam)\n",
    "plt.xticks(tick_marks, ['Predicted Ham(Non-spam)', 'Predicted Spam'], rotation=90)\n",
    "plt.yticks(tick_marks, ['Actual Ham(Non-spam)', 'Actual Spam'])\n",
    "plt.tight_layout()\n",
    "for i in range(2):\n",
    "    for j in range(2):\n",
    "        plt.text(j, i, format(confusion_Matrix_5[i, j], 'd'), ha=\"center\", va=\"center\", color=\"white\" \n",
    "                 if confusion_Matrix_5[i, j] > confusion_Matrix_5.max() / 2. else \"black\")\n",
    "plt.show()"
   ]
  },
  {
   "cell_type": "markdown",
   "id": "459b7aa7",
   "metadata": {},
   "source": [
    "### Individual Accuracy scores of each model"
   ]
  },
  {
   "cell_type": "code",
   "execution_count": 53,
   "id": "c041e5f9",
   "metadata": {},
   "outputs": [
    {
     "name": "stdout",
     "output_type": "stream",
     "text": [
      "1. Logistic Regression :      0.9806576402321083\n",
      "2. MultiNominal Naive Bayes : 0.9777562862669246\n",
      "3. Support Vector Machine :   0.97678916827853\n",
      "4. Random Forest  :           0.971953578336557\n",
      "5. Decision Tree  :           0.9700193423597679\n"
     ]
    }
   ],
   "source": [
    "print(\"1. Logistic Regression :     \", Accuracy_3)\n",
    "print(\"2. MultiNominal Naive Bayes :\", Accuracy_1)\n",
    "print(\"3. Support Vector Machine :  \", Accuracy_2)\n",
    "print(\"4. Random Forest  :          \", Accuracy_4)\n",
    "print(\"5. Decision Tree  :          \", Accuracy_5)"
   ]
  },
  {
   "cell_type": "code",
   "execution_count": 46,
   "id": "104b90a0",
   "metadata": {},
   "outputs": [],
   "source": [
    "## Saving the best Model"
   ]
  },
  {
   "cell_type": "code",
   "execution_count": 47,
   "id": "6563f262",
   "metadata": {},
   "outputs": [
    {
     "data": {
      "text/plain": [
       "['Logistic Regression_model.joblib']"
      ]
     },
     "execution_count": 47,
     "metadata": {},
     "output_type": "execute_result"
    }
   ],
   "source": [
    "joblib.dump(model_3, 'Logistic Regression_model.joblib')"
   ]
  },
  {
   "cell_type": "code",
   "execution_count": 48,
   "id": "f0bbfd9d",
   "metadata": {},
   "outputs": [],
   "source": [
    "def model_eval():\n",
    "    loaded_model = joblib.load('Logistic Regression_model.joblib')\n",
    " \n",
    "\n",
    "\n",
    "    def classify_message(input_message):\n",
    "       \n",
    "        input_message = re.sub(r'[^a-zA-Z0-9\\s]', '', input_message)  # Remove special characters\n",
    "        input_message = input_message.lower()   # Convert to lowercase\n",
    "        input_message = [input_message]  \n",
    "        \n",
    "        input_message_vectorized = cv.transform(input_message)\n",
    "    \n",
    "       \n",
    "        prediction = loaded_model.predict(input_message_vectorized)\n",
    "    \n",
    "        return prediction[0]  \n",
    "    # User input\n",
    "    user_input = input(\"Enter a message: \")\n",
    "    \n",
    "    # Call the classify_message function to detect spam or non-spam\n",
    "    result = classify_message(user_input)\n",
    "    \n",
    "    # Display the result to the user\n",
    "    if result == 1:\n",
    "        print(\"Spam detected.\")\n",
    "    else:\n",
    "        print(\"The above entered message is a Non-spam (ham) message.\")"
   ]
  },
  {
   "cell_type": "code",
   "execution_count": 49,
   "id": "4f2b73be",
   "metadata": {},
   "outputs": [
    {
     "name": "stdout",
     "output_type": "stream",
     "text": [
      "Enter a message: click the WAP link in the next txt message or click here>> http://wap. xxxmobilemovieclub.com?n=QJKGIGHJJGCBL\n",
      "Spam detected.\n"
     ]
    }
   ],
   "source": [
    "model_eval()"
   ]
  },
  {
   "cell_type": "code",
   "execution_count": 50,
   "id": "b8faffd4",
   "metadata": {},
   "outputs": [
    {
     "name": "stdout",
     "output_type": "stream",
     "text": [
      "Enter a message: Hey Prachi, We hope you've been enjoying the Black Friday excitement! We wanted to remind you that our exclusive 50% discount on our Annual Plan will expire tomorrow night at 11:59 PM Pacific Time.\n",
      "The above entered message is a Non-spam (ham) message.\n"
     ]
    }
   ],
   "source": [
    "model_eval()"
   ]
  },
  {
   "cell_type": "code",
   "execution_count": 51,
   "id": "31fd8e54",
   "metadata": {},
   "outputs": [
    {
     "name": "stdout",
     "output_type": "stream",
     "text": [
      "Enter a message: Hi Prachi,     Shhhh. There’s a secret we want to share with you.   We know who is going to win the Cricket World Cup.      And the answer will leave you amazed ‘cause YOU’re going to be the winner! 🤩     Wondering how? 🤔     By taking part in the World’s Biggest Cricket Quiz Festival, you get a chance to bag rewards that are as exciting as Dhoni’s winning six from 2011:   Win cash rewards from a prize pool INR 4 Lakhs 💰                - The overall Grand Finale winner wins a whopping INR 1,00,000/-            -  Runner up bags INR 50,000/\n",
      "Spam detected.\n"
     ]
    }
   ],
   "source": [
    "model_eval()"
   ]
  },
  {
   "cell_type": "code",
   "execution_count": 52,
   "id": "a32a72d2",
   "metadata": {},
   "outputs": [
    {
     "name": "stdout",
     "output_type": "stream",
     "text": [
      "Enter a message: Permission slips or office work, paper or digital — filling out forms is simple with Acrobat Pro. Just upload your document and get it done. Get started\n",
      "The above entered message is a Non-spam (ham) message.\n"
     ]
    }
   ],
   "source": [
    "model_eval()"
   ]
  },
  {
   "cell_type": "code",
   "execution_count": null,
   "id": "f980bf86",
   "metadata": {},
   "outputs": [],
   "source": []
  },
  {
   "cell_type": "code",
   "execution_count": null,
   "id": "ba5c4f1a",
   "metadata": {},
   "outputs": [],
   "source": []
  }
 ],
 "metadata": {
  "kernelspec": {
   "display_name": "Python 3",
   "language": "python",
   "name": "python3"
  },
  "language_info": {
   "codemirror_mode": {
    "name": "ipython",
    "version": 3
   },
   "file_extension": ".py",
   "mimetype": "text/x-python",
   "name": "python",
   "nbconvert_exporter": "python",
   "pygments_lexer": "ipython3",
   "version": "3.8.8"
  }
 },
 "nbformat": 4,
 "nbformat_minor": 5
}
